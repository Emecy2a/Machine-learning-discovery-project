{
 "cells": [
  {
   "cell_type": "code",
   "execution_count": 1,
   "id": "8d7cfa97",
   "metadata": {},
   "outputs": [],
   "source": [
    "import tensorflow as tf\n",
    "from tensorflow import keras\n",
    "from keras.datasets import fashion_mnist\n",
    "from tensorflow.keras import datasets\n",
    "from keras.layers import Input\n",
    "import numpy as np\n",
    "from sklearn.metrics import confusion_matrix, classification_report, precision_score, recall_score\n",
    "from keras.models import Sequential\n",
    "from keras.layers import Dense\n",
    "from tensorflow.keras.utils import to_categorical"
   ]
  },
  {
   "cell_type": "code",
   "execution_count": 5,
   "id": "38e7d099",
   "metadata": {},
   "outputs": [],
   "source": [
    "fashion_mnist = tf.keras.datasets.fashion_mnist\n",
    "\n",
    "(train_images, train_labels), (test_images, test_labels) = fashion_mnist.load_data()"
   ]
  },
  {
   "cell_type": "code",
   "execution_count": 6,
   "id": "9fbc06b6",
   "metadata": {},
   "outputs": [],
   "source": [
    "train_images = (train_images / 255) - 1\n",
    "test_images = (test_images / 255) - 1"
   ]
  },
  {
   "cell_type": "code",
   "execution_count": 7,
   "id": "94bc7dc2",
   "metadata": {},
   "outputs": [
    {
     "name": "stdout",
     "output_type": "stream",
     "text": [
      "(60000, 784)\n",
      "(10000, 784)\n"
     ]
    }
   ],
   "source": [
    "train_images = train_images.reshape((-1, 784))\n",
    "test_images = test_images.reshape((-1, 784))\n",
    "\n",
    "print(train_images.shape) \n",
    "print(test_images.shape)  "
   ]
  },
  {
   "cell_type": "code",
   "execution_count": 8,
   "id": "b11afc39",
   "metadata": {},
   "outputs": [],
   "source": [
    "model = Sequential([\n",
    "  Dense(64, activation='relu', input_shape=(784,)),\n",
    "  Dense(64, activation='relu'),\n",
    "  Dense(64, activation='relu'),\n",
    "  Dense(10, activation='softmax'),\n",
    "])"
   ]
  },
  {
   "cell_type": "code",
   "execution_count": 9,
   "id": "42744bc8",
   "metadata": {},
   "outputs": [],
   "source": [
    "model.compile(loss='categorical_crossentropy',\n",
    "             optimizer='adam',\n",
    "             metrics=['accuracy'])"
   ]
  },
  {
   "cell_type": "code",
   "execution_count": 10,
   "id": "d371a38d",
   "metadata": {
    "scrolled": true
   },
   "outputs": [
    {
     "name": "stdout",
     "output_type": "stream",
     "text": [
      "Epoch 1/30\n",
      "60000/60000 [==============================] - 26s 429us/step - loss: 0.6928 - accuracy: 0.7416\n",
      "Epoch 2/30\n",
      "60000/60000 [==============================] - 26s 428us/step - loss: 0.5753 - accuracy: 0.7959\n",
      "Epoch 3/30\n",
      "60000/60000 [==============================] - 25s 422us/step - loss: 0.5586 - accuracy: 0.8038\n",
      "Epoch 4/30\n",
      "60000/60000 [==============================] - 25s 421us/step - loss: 0.5471 - accuracy: 0.8071\n",
      "Epoch 5/30\n",
      "60000/60000 [==============================] - 25s 421us/step - loss: 0.5379 - accuracy: 0.8113\n",
      "Epoch 6/30\n",
      "60000/60000 [==============================] - 26s 427us/step - loss: 0.5405 - accuracy: 0.8120\n",
      "Epoch 7/30\n",
      "60000/60000 [==============================] - 25s 422us/step - loss: 0.5302 - accuracy: 0.8128\n",
      "Epoch 8/30\n",
      "60000/60000 [==============================] - 26s 427us/step - loss: 0.5263 - accuracy: 0.8150s\n",
      "Epoch 9/30\n",
      "60000/60000 [==============================] - 26s 432us/step - loss: 0.5184 - accuracy: 0.8181s - loss: 0.5189 - accura\n",
      "Epoch 10/30\n",
      "60000/60000 [==============================] - 26s 430us/step - loss: 0.5223 - accuracy: 0.8160\n",
      "Epoch 11/30\n",
      "60000/60000 [==============================] - 26s 430us/step - loss: 0.5226 - accuracy: 0.8171\n",
      "Epoch 12/30\n",
      "60000/60000 [==============================] - 25s 423us/step - loss: 0.5124 - accuracy: 0.8201\n",
      "Epoch 13/30\n",
      "60000/60000 [==============================] - 26s 427us/step - loss: 0.5203 - accuracy: 0.8186\n",
      "Epoch 14/30\n",
      "60000/60000 [==============================] - 25s 424us/step - loss: 0.5156 - accuracy: 0.8202\n",
      "Epoch 15/30\n",
      "60000/60000 [==============================] - 25s 422us/step - loss: 0.5111 - accuracy: 0.8231\n",
      "Epoch 16/30\n",
      "60000/60000 [==============================] - 26s 437us/step - loss: 0.5117 - accuracy: 0.8226\n",
      "Epoch 17/30\n",
      "60000/60000 [==============================] - 25s 422us/step - loss: 0.5101 - accuracy: 0.8218\n",
      "Epoch 18/30\n",
      "60000/60000 [==============================] - 26s 431us/step - loss: 0.5169 - accuracy: 0.8217\n",
      "Epoch 19/30\n",
      "60000/60000 [==============================] - 26s 429us/step - loss: 0.5094 - accuracy: 0.8214\n",
      "Epoch 20/30\n",
      "60000/60000 [==============================] - 26s 439us/step - loss: 0.5091 - accuracy: 0.8234\n",
      "Epoch 21/30\n",
      "60000/60000 [==============================] - 26s 435us/step - loss: 0.5192 - accuracy: 0.8231\n",
      "Epoch 22/30\n",
      "60000/60000 [==============================] - 26s 440us/step - loss: 0.5223 - accuracy: 0.8206\n",
      "Epoch 23/30\n",
      "60000/60000 [==============================] - 26s 439us/step - loss: 0.5074 - accuracy: 0.8249\n",
      "Epoch 24/30\n",
      "60000/60000 [==============================] - 26s 432us/step - loss: 0.5019 - accuracy: 0.8243\n",
      "Epoch 25/30\n",
      "60000/60000 [==============================] - 26s 427us/step - loss: 0.5103 - accuracy: 0.8246\n",
      "Epoch 26/30\n",
      "60000/60000 [==============================] - 26s 434us/step - loss: 0.5115 - accuracy: 0.8240\n",
      "Epoch 27/30\n",
      "60000/60000 [==============================] - 26s 432us/step - loss: 0.5051 - accuracy: 0.8263\n",
      "Epoch 28/30\n",
      "60000/60000 [==============================] - 26s 438us/step - loss: 0.5061 - accuracy: 0.8243\n",
      "Epoch 29/30\n",
      "60000/60000 [==============================] - 26s 428us/step - loss: 0.5105 - accuracy: 0.8279\n",
      "Epoch 30/30\n",
      "60000/60000 [==============================] - 26s 430us/step - loss: 0.5008 - accuracy: 0.8259\n"
     ]
    },
    {
     "data": {
      "text/plain": [
       "<keras.callbacks.History at 0x26b95cc6550>"
      ]
     },
     "execution_count": 10,
     "metadata": {},
     "output_type": "execute_result"
    }
   ],
   "source": [
    "model.fit(\n",
    "  train_images, # training data\n",
    "  to_categorical(train_labels),\n",
    "  epochs=30,\n",
    "  batch_size=32,\n",
    ")"
   ]
  },
  {
   "cell_type": "code",
   "execution_count": 28,
   "id": "c5648e23",
   "metadata": {
    "scrolled": true
   },
   "outputs": [
    {
     "name": "stdout",
     "output_type": "stream",
     "text": [
      "313/313 [==============================] - 0s 399us/step - loss: 0.3856 - accuracy: 0.8685\n"
     ]
    },
    {
     "data": {
      "text/plain": [
       "[0.3856329321861267, 0.8684999942779541]"
      ]
     },
     "execution_count": 28,
     "metadata": {},
     "output_type": "execute_result"
    }
   ],
   "source": [
    "model.evaluate(\n",
    "  test_images,\n",
    "  to_categorical(test_labels)\n",
    "#Lecture:[Perte, Precision finale]"
   ]
  },
  {
   "cell_type": "code",
   "execution_count": 29,
   "id": "2bbd4b68",
   "metadata": {},
   "outputs": [],
   "source": [
    "# Pense bête X et Y:\n",
    "# (train_images, train_labels), (test_images, test_labels)"
   ]
  },
  {
   "cell_type": "code",
   "execution_count": 30,
   "id": "170a7168",
   "metadata": {},
   "outputs": [
    {
     "name": "stdout",
     "output_type": "stream",
     "text": [
      "[9 2 1 ... 8 1 5]\n",
      "[9 2 1 ... 8 1 5]\n"
     ]
    }
   ],
   "source": [
    "#Prédiction des 5 premères images test.\n",
    "predictions = model.predict(test_images)\n",
    "\n",
    "# Impression du modèle de prédiction.\n",
    "print(np.argmax(predictions, axis=1))\n",
    "\n",
    "# Vérification de la prédiction\n",
    "print(test_labels) "
   ]
  },
  {
   "cell_type": "code",
   "execution_count": 31,
   "id": "13feba3d",
   "metadata": {},
   "outputs": [
    {
     "name": "stdout",
     "output_type": "stream",
     "text": [
      "[[778   0  21  31   6   6 145   2  11   0]\n",
      " [  1 968   2  20   4   0   2   0   3   0]\n",
      " [ 13   1 796  14 102   2  68   1   3   0]\n",
      " [ 11  13  15 872  53   3  26   1   6   0]\n",
      " [  1   1  87  21 811   0  73   0   6   0]\n",
      " [  0   0   0   1   0 898   0  84   0  17]\n",
      " [ 90   0  83  28  64   7 714   0  14   0]\n",
      " [  0   0   0   0   0   3   0 988   0   9]\n",
      " [  6   1   2   4   5   3  10   8 961   0]\n",
      " [  1   0   0   0   0  10   0  90   0 899]]\n"
     ]
    }
   ],
   "source": [
    "#Matrice de confusion\n",
    "matrix = confusion_matrix(test_labels, np.argmax(predictions, axis=1))\n",
    "print(matrix)"
   ]
  },
  {
   "cell_type": "code",
   "execution_count": 32,
   "id": "b8cf5fda",
   "metadata": {},
   "outputs": [
    {
     "name": "stdout",
     "output_type": "stream",
     "text": [
      "Precision: 0.868500\n"
     ]
    }
   ],
   "source": [
    "# précision tp / (tp + fp)\n",
    "precision = precision_score(test_labels, np.argmax(predictions, axis=1),average='micro')\n",
    "                                           \n",
    "print('Precision: %f' % precision)\n"
   ]
  },
  {
   "cell_type": "code",
   "execution_count": 33,
   "id": "99ef82bd",
   "metadata": {},
   "outputs": [
    {
     "name": "stdout",
     "output_type": "stream",
     "text": [
      "Recall: 0.868500\n"
     ]
    }
   ],
   "source": [
    "recall = recall_score(test_labels, np.argmax(predictions, axis=1),average='micro')\n",
    "print('Recall: %f' % recall)"
   ]
  }
 ],
 "metadata": {
  "kernelspec": {
   "display_name": "Python 3 (ipykernel)",
   "language": "python",
   "name": "python3"
  },
  "language_info": {
   "codemirror_mode": {
    "name": "ipython",
    "version": 3
   },
   "file_extension": ".py",
   "mimetype": "text/x-python",
   "name": "python",
   "nbconvert_exporter": "python",
   "pygments_lexer": "ipython3",
   "version": "3.7.4"
  }
 },
 "nbformat": 4,
 "nbformat_minor": 5
}
